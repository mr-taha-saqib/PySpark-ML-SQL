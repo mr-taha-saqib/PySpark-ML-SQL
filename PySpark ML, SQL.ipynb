{
  "nbformat": 4,
  "nbformat_minor": 0,
  "metadata": {
    "colab": {
      "provenance": []
    },
    "kernelspec": {
      "name": "python3",
      "display_name": "Python 3"
    },
    "language_info": {
      "name": "python"
    }
  },
  "cells": [
    {
      "cell_type": "code",
      "execution_count": null,
      "metadata": {
        "colab": {
          "base_uri": "https://localhost:8080/"
        },
        "id": "ev6MZrP35zUH",
        "outputId": "d0990dc4-c783-4478-fb43-5b02d49619ae"
      },
      "outputs": [
        {
          "output_type": "stream",
          "name": "stdout",
          "text": [
            "Looking in indexes: https://pypi.org/simple, https://us-python.pkg.dev/colab-wheels/public/simple/\n",
            "Collecting pyspark\n",
            "  Downloading pyspark-3.4.0.tar.gz (310.8 MB)\n",
            "\u001b[2K     \u001b[90m━━━━━━━━━━━━━━━━━━━━━━━━━━━━━━━━━━━━━━━\u001b[0m \u001b[32m310.8/310.8 MB\u001b[0m \u001b[31m3.6 MB/s\u001b[0m eta \u001b[36m0:00:00\u001b[0m\n",
            "\u001b[?25h  Preparing metadata (setup.py) ... \u001b[?25l\u001b[?25hdone\n",
            "Requirement already satisfied: py4j==0.10.9.7 in /usr/local/lib/python3.10/dist-packages (from pyspark) (0.10.9.7)\n",
            "Building wheels for collected packages: pyspark\n",
            "  Building wheel for pyspark (setup.py) ... \u001b[?25l\u001b[?25hdone\n",
            "  Created wheel for pyspark: filename=pyspark-3.4.0-py2.py3-none-any.whl size=311317130 sha256=a526a5d61510580ac952ab8f08302efa620df40ea660a418a261e065e5c8e0be\n",
            "  Stored in directory: /root/.cache/pip/wheels/7b/1b/4b/3363a1d04368e7ff0d408e57ff57966fcdf00583774e761327\n",
            "Successfully built pyspark\n",
            "Installing collected packages: pyspark\n",
            "Successfully installed pyspark-3.4.0\n"
          ]
        }
      ],
      "source": [
        "pip install pyspark"
      ]
    },
    {
      "cell_type": "code",
      "source": [
        "import pyspark\n",
        "from pyspark.sql.session import SparkSession\n",
        "from pyspark import SparkContext,SparkConf\n",
        "import random"
      ],
      "metadata": {
        "id": "uAgx5mrq57Hc"
      },
      "execution_count": null,
      "outputs": []
    },
    {
      "cell_type": "code",
      "source": [
        "sc = SparkContext('local')"
      ],
      "metadata": {
        "id": "uJ1CFVn857j4"
      },
      "execution_count": null,
      "outputs": []
    },
    {
      "cell_type": "code",
      "source": [
        "spark = SparkSession(sc)"
      ],
      "metadata": {
        "id": "rToa_fIw6By9"
      },
      "execution_count": null,
      "outputs": []
    },
    {
      "cell_type": "code",
      "source": [
        "df = spark.read.csv(\"Movies.csv\",sep=\";\",inferSchema = True,header = True)"
      ],
      "metadata": {
        "id": "6Fr6h7wM6DZt"
      },
      "execution_count": null,
      "outputs": []
    },
    {
      "cell_type": "code",
      "source": [
        "df.show()"
      ],
      "metadata": {
        "colab": {
          "base_uri": "https://localhost:8080/"
        },
        "id": "k95iTZdx6MN1",
        "outputId": "4509d9b3-3baf-4596-c9b3-8c2e1945e17c"
      },
      "execution_count": null,
      "outputs": [
        {
          "output_type": "stream",
          "name": "stdout",
          "text": [
            "+----+------+--------------------+-------+--------------------+-------------------+--------------------+----------+------+--------------------+\n",
            "|Year|Length|               Title|  Genre|               Actor|            Actress|            Director|Popularity|Awards|         *Image,,,,,|\n",
            "+----+------+--------------------+-------+--------------------+-------------------+--------------------+----------+------+--------------------+\n",
            "| INT|   INT|              STRING|    CAT|                 CAT|                CAT|                 CAT|       INT|  BOOL|         STRING,,,,,|\n",
            "|1990|   111|Tie Me Up! Tie Me...| Comedy|   Banderas, Antonio|    Abril, Victoria|    Almod�var, Pedro|        68|    No|  NicholasCage.png,,|\n",
            "|1991|   113|          High Heels| Comedy|        Bos�, Miguel|    Abril, Victoria|    Almod�var, Pedro|        68|    No|  NicholasCage.png,,|\n",
            "|1983|   104|      Dead Zone, The| Horror| Walken, Christopher|      Adams, Brooke|   Cronenberg, David|        79|    No|   NicholasCage.png,|\n",
            "|1979|   122|                Cuba| Action|       Connery, Sean|      Adams, Brooke|     Lester, Richard|         6|    No|   seanConnery.png,,|\n",
            "|1978|    94|      Days of Heaven|  Drama|       Gere, Richard|      Adams, Brooke|    Malick, Terrence|        14|    No|  NicholasCage.png,,|\n",
            "|1983|   140|           Octopussy| Action|        Moore, Roger|        Adams, Maud|          Glen, John|        68|    No|  NicholasCage.png,,|\n",
            "|1984|   101|        Target Eagle| Action|      Connors, Chuck|        Adams, Maud|Loma, Jos� Antoni...|        14|    No|  NicholasCage.png,,|\n",
            "|1989|    99|American Angels: ...|  Drama|   Bergen, Robert D.|       Adams, Trudy|  Sebastian, Beverly|        28|    No|   NicholasCage.png,|\n",
            "|1985|   104|              Subway|  Drama|Lambert, Christopher|   Adjani, Isabelle|         Besson, Luc|         6|    No|  NicholasCage.png,,|\n",
            "|1990|   149|     Camille Claudel|  Drama|   Depardieu, G�rard|   Adjani, Isabelle|      Nuytten, Bruno|        32|    No|  NicholasCage.png,,|\n",
            "|1982|   188| Fanny and Alexander|  Drama|     Ahlstedt, B�rje|Adolphson, Kristina|     Bergman, Ingmar|        81|   Yes|       Bergman.png,,|\n",
            "|1982|   117|Tragedy of a Ridi...|  Drama|       Tognazzi, Ugo|       Aimee, Anouk|Bertolucci, Bernardo|        17|    No|  NicholasCage.png,,|\n",
            "|1966|   103|     A Man & a Woman|  Drama|Trintignant, Jean...|       Aimee, Anouk|     Lelouch, Claude|        46|   Yes|  NicholasCage.png,,|\n",
            "|1986|   112|A Man & a Woman: ...|  Drama|Trintignant, Jean...|       Aimee, Anouk|     Lelouch, Claude|        49|    No|  NicholasCage.png,,|\n",
            "|1966|   103|Un Hombre y una M...|  Drama|Trintignant, Jean...|       Aimee, Anouk|     Lelouch, Claude|         6|   Yes|  NicholasCage.png,,|\n",
            "|1985|   112| Official Story, The|  Drama|     Alterio, Hector|    Aleandro, Norma|        Puenzo, Luiz|        39|   Yes|   NicholasCage.png,|\n",
            "|1976|   150|Lindbergh Kidnapp...|  Drama|    Hopkins, Anthony|  Alexander, Denise|         Kulik, Buzz|        51|    No| AnthonyHopkins.png,|\n",
            "|1929|    84|           Blackmail|Mystery|       Longden, John|       Algood, Sara|   Hitchcock, Alfred|         2|    No|alfredHitchcock.p...|\n",
            "|1963|   109|      Donovan's Reef| Comedy|         Wayne, John|   Allen, Elizabeth|          Ford, John|        62|    No|     johnWayne.png,,|\n",
            "+----+------+--------------------+-------+--------------------+-------------------+--------------------+----------+------+--------------------+\n",
            "only showing top 20 rows\n",
            "\n"
          ]
        }
      ]
    },
    {
      "cell_type": "code",
      "source": [
        "df.printSchema()"
      ],
      "metadata": {
        "colab": {
          "base_uri": "https://localhost:8080/"
        },
        "id": "nN3Q1NYW906F",
        "outputId": "a6873522-0d61-4924-be8f-401bb6293f48"
      },
      "execution_count": null,
      "outputs": [
        {
          "output_type": "stream",
          "name": "stdout",
          "text": [
            "root\n",
            " |-- Year: string (nullable = true)\n",
            " |-- Length: string (nullable = true)\n",
            " |-- Title: string (nullable = true)\n",
            " |-- Genre: string (nullable = true)\n",
            " |-- Actor: string (nullable = true)\n",
            " |-- Actress: string (nullable = true)\n",
            " |-- Director: string (nullable = true)\n",
            " |-- Popularity: string (nullable = true)\n",
            " |-- Awards: string (nullable = true)\n",
            " |-- *Image,,,,,: string (nullable = true)\n",
            "\n"
          ]
        }
      ]
    },
    {
      "cell_type": "code",
      "source": [
        "#Q1\n",
        "from pyspark.sql.functions import col"
      ],
      "metadata": {
        "id": "_-2KET2z6lSN"
      },
      "execution_count": null,
      "outputs": []
    },
    {
      "cell_type": "code",
      "source": [
        "action_award_movies = (\n",
        "    df.select(\"Title\", \"Year\", \"Director\").filter((col(\"Genre\") == \"Action\") & (col(\"Awards\") == \"Yes\"))\n",
        ")\n",
        "action_award_movies.show()"
      ],
      "metadata": {
        "colab": {
          "base_uri": "https://localhost:8080/"
        },
        "id": "V22YJGPD6dQA",
        "outputId": "be5a1b95-a930-46aa-c4c2-60b1f550e1d7"
      },
      "execution_count": null,
      "outputs": [
        {
          "output_type": "stream",
          "name": "stdout",
          "text": [
            "+-----+----+--------+\n",
            "|Title|Year|Director|\n",
            "+-----+----+--------+\n",
            "+-----+----+--------+\n",
            "\n"
          ]
        }
      ]
    },
    {
      "cell_type": "code",
      "source": [
        "#Q2\n",
        "from pyspark.sql.functions import split, explode, col\n",
        "\n",
        "award_actors = df.filter(col(\"Awards\") == \"Yes\").select(explode(split(col(\"Actor\"), \", \")).alias(\"Actor\"))\n",
        "df.select(col(\"Title\"),col(\"Director\")).show()\n",
        "\n",
        "# join award_actors with movies_df to get movies for each actor\n",
        "movies_award_actors = df.select(\"Title\", \"Director\", \"Actor\").distinct()\n",
        "# print movies and director for each actor\n",
        "movies_award_actors.groupBy(\"Actor\").agg({\"Title\": \"collect_list\", \"Director\": \"max\"}).orderBy(\"Actor\").show(truncate=False)\n"
      ],
      "metadata": {
        "colab": {
          "base_uri": "https://localhost:8080/"
        },
        "id": "qdkJ0gNC_U-W",
        "outputId": "91fe56a7-8db3-4e1c-fa29-47e1de3144e3"
      },
      "execution_count": null,
      "outputs": [
        {
          "output_type": "stream",
          "name": "stdout",
          "text": [
            "+--------------------+--------------------+\n",
            "|               Title|            Director|\n",
            "+--------------------+--------------------+\n",
            "|              STRING|                 CAT|\n",
            "|Tie Me Up! Tie Me...|    Almod�var, Pedro|\n",
            "|          High Heels|    Almod�var, Pedro|\n",
            "|      Dead Zone, The|   Cronenberg, David|\n",
            "|                Cuba|     Lester, Richard|\n",
            "|      Days of Heaven|    Malick, Terrence|\n",
            "|           Octopussy|          Glen, John|\n",
            "|        Target Eagle|Loma, Jos� Antoni...|\n",
            "|American Angels: ...|  Sebastian, Beverly|\n",
            "|              Subway|         Besson, Luc|\n",
            "|     Camille Claudel|      Nuytten, Bruno|\n",
            "| Fanny and Alexander|     Bergman, Ingmar|\n",
            "|Tragedy of a Ridi...|Bertolucci, Bernardo|\n",
            "|     A Man & a Woman|     Lelouch, Claude|\n",
            "|A Man & a Woman: ...|     Lelouch, Claude|\n",
            "|Un Hombre y una M...|     Lelouch, Claude|\n",
            "| Official Story, The|        Puenzo, Luiz|\n",
            "|Lindbergh Kidnapp...|         Kulik, Buzz|\n",
            "|           Blackmail|   Hitchcock, Alfred|\n",
            "|      Donovan's Reef|          Ford, John|\n",
            "+--------------------+--------------------+\n",
            "only showing top 20 rows\n",
            "\n",
            "+--------------------+---------------------+-----------------------------------------------------------------------------------------------------------------------------------------------------------------------------------------------------------------------------+\n",
            "|Actor               |max(Director)        |collect_list(Title)                                                                                                                                                                                                          |\n",
            "+--------------------+---------------------+-----------------------------------------------------------------------------------------------------------------------------------------------------------------------------------------------------------------------------+\n",
            "|null                |Taylor, Gavin        |[Erasure, Live Wild!, Ciao Italia, Madonna Live from Italy, Madonna, Justify My Love, Immaculate Collection, The, Madonna Live, The Virgin Tour, Madonna, Like a Virgin, Ninja, the Violent Sorcerer, Madonna, Truth or Dare]|\n",
            "|Abel, Alfred        |Lang, Fritz          |[Metropolis]                                                                                                                                                                                                                 |\n",
            "|Abraham, F. Murray  |Forman, Milos        |[Amadeus]                                                                                                                                                                                                                    |\n",
            "|Adolphson, Edvin    |Molander, Gustav     |[Count of Old Town, The, Only One Night]                                                                                                                                                                                     |\n",
            "|Aherne, Brian       |Vidor, Charles       |[Lady in Question]                                                                                                                                                                                                           |\n",
            "|Ahlstedt, B�rje     |Bergman, Ingmar      |[Fanny and Alexander]                                                                                                                                                                                                        |\n",
            "|Aiello, Danny       |Lee, Spike           |[Do the Right Thing, Purple Rose of Cairo, The]                                                                                                                                                                              |\n",
            "|Akan, Tarik         |Guney, Yilmaz        |[Yol]                                                                                                                                                                                                                        |\n",
            "|Albaic�n, Rafael    |Wenders, Wim         |[Scarlet Letter, The]                                                                                                                                                                                                        |\n",
            "|Albert, Edward      |Katselas, Milton     |[Butterflies Are Free]                                                                                                                                                                                                       |\n",
            "|Alda, Alan          |Alda, Alan           |[A New Life, Sweet Liberty]                                                                                                                                                                                                  |\n",
            "|Allen, Bill         |Needham, Hal         |[RAD]                                                                                                                                                                                                                        |\n",
            "|Allen, Woody        |Ross, Herbert        |[Front, The, Manhattan, Husbands & Wives, Sleeper, New York Stories, Annie Hall, Scenes from a Mall, Broadway Danny Rose, Play It Again, Sam, Love & Death, Best of Candid Camera, The]                                      |\n",
            "|Alterio, Hector     |Puenzo, Luiz         |[Official Story, The]                                                                                                                                                                                                        |\n",
            "|Ameche, Don         |Howard, Ron          |[Cocoon]                                                                                                                                                                                                                     |\n",
            "|Anderson, Kevin     |Sinise, Gary         |[Miles from Home]                                                                                                                                                                                                            |\n",
            "|Andersson, Wiktor   |Bergman, Ingmar      |[Crisis]                                                                                                                                                                                                                     |\n",
            "|Anglade, Jean-Hughes|Beineix, Jean-Jacques|[Betty Blue]                                                                                                                                                                                                                 |\n",
            "|Annese, Frank       |Gold, Greg           |[House of the Rising Sun]                                                                                                                                                                                                    |\n",
            "|Apfel, Oscar        |Brown, Clarence      |[Inspiration]                                                                                                                                                                                                                |\n",
            "+--------------------+---------------------+-----------------------------------------------------------------------------------------------------------------------------------------------------------------------------------------------------------------------------+\n",
            "only showing top 20 rows\n",
            "\n"
          ]
        }
      ]
    },
    {
      "cell_type": "code",
      "source": [
        "#Q3\n",
        "from pyspark.sql.functions import desc\n",
        "\n",
        "non_award_movies_df = df.filter(df.Awards == \"No\")\n",
        "# sort by popularity in descending order and select top 10\n",
        "top_10_df = non_award_movies_df.sort(desc(\"Popularity\")).limit(10)\n",
        "top_10_df.select(\"Title\", \"Popularity\").show()\n"
      ],
      "metadata": {
        "colab": {
          "base_uri": "https://localhost:8080/"
        },
        "id": "VnQXiQCbC2Jv",
        "outputId": "5e5d11e8-11da-449c-a453-69d4b657e8c1"
      },
      "execution_count": null,
      "outputs": [
        {
          "output_type": "stream",
          "name": "stdout",
          "text": [
            "+--------------------+----------+\n",
            "|               Title|Popularity|\n",
            "+--------------------+----------+\n",
            "|        Tango & Cash|         9|\n",
            "|              Plenty|         9|\n",
            "|Masque of the Red...|         9|\n",
            "|           Lionheart|         9|\n",
            "|        Judge Priest|         9|\n",
            "|           Dead-Bang|         9|\n",
            "|       Basil The Rat|         9|\n",
            "|               Glitz|         9|\n",
            "|            Morituri|         9|\n",
            "|Naked Gun: From t...|         9|\n",
            "+--------------------+----------+\n",
            "\n"
          ]
        }
      ]
    },
    {
      "cell_type": "code",
      "source": [
        "#Q4\n",
        "from pyspark.sql.functions import col\n",
        "least_popular_movies = df.filter(col(\"Year\") < 1980).orderBy(\"Popularity\").limit(10)\n",
        "least_popular_movies.show()"
      ],
      "metadata": {
        "colab": {
          "base_uri": "https://localhost:8080/"
        },
        "id": "jEdOMXOdDkf7",
        "outputId": "0f7b01a4-97aa-4c67-95e5-c19e9a641e33"
      },
      "execution_count": null,
      "outputs": [
        {
          "output_type": "stream",
          "name": "stdout",
          "text": [
            "+----+------+------------------+--------+--------------------+------------------+-------------------+----------+------+--------------------+\n",
            "|Year|Length|             Title|   Genre|               Actor|           Actress|           Director|Popularity|Awards|         *Image,,,,,|\n",
            "+----+------+------------------+--------+--------------------+------------------+-------------------+----------+------+--------------------+\n",
            "|1953|    61|   White Lightning|    null|   Clements, Stanley|  Blondell, Gloria|     Bernds, Edward|      null|    No|  NicholasCage.png,,|\n",
            "|1923|    57|      Desert Rider| Western|         Hoxie, Jack|    Nelson, Evelyn|Bradbury, Robert N.|      null|    No|  NicholasCage.png,,|\n",
            "|1927|    62|    Drop Kick, The|   Drama|Barthelmess, Richard|     Kent, Barbara|      Webb, Millard|      null|    No|   NicholasCage.png,|\n",
            "|1954|    30| Bank on the Stars|   Drama|          Paar, Jack|              null|       Allen, Craig|      null|    No| NicholasCage.png,,,|\n",
            "|1976|   128|Shout at the Devil|  Action|         Marvin, Lee|  Parkins, Barbara|     Hunt, Peter R.|         0|    No|  NicholasCage.png,,|\n",
            "|1968|   113|           Shalako|Westerns|       Connery, Sean|  Bardot, Brigitte|    Dmytryk, Edward|         0|    No|brigitteBardot.png,,|\n",
            "|1930|    92|     Anna Christie|   Drama|   Bickford, Charles|      Garbo, Greta|    Brown, Clarence|         0|    No|    gretaGarbo.png,,|\n",
            "|1970|   137|           Airport|   Drama|     Lancaster, Burt|Bisset, Jacqueline|     Seaton, George|         0|   Yes| burtLancaster.png,,|\n",
            "|1953|   120| Tales of Tomorrow|  Horror|      Karloff, Boris|              null|               null|         0|    No|NicholasCage.png,,,,|\n",
            "|1974|   117|          Stavisky|   Drama| Belmondo, Jean-Paul|     Duperey, Anny|     Resnais, Alain|         1|    No|  NicholasCage.png,,|\n",
            "+----+------+------------------+--------+--------------------+------------------+-------------------+----------+------+--------------------+\n",
            "\n"
          ]
        }
      ]
    },
    {
      "cell_type": "code",
      "source": [
        "#Q5\n",
        "from pyspark.sql.functions import col\n",
        "\n",
        "sorted_movies = df.filter(col(\"year\") < 1990).orderBy(\"Title\")\n",
        "sorted_movies.show(10)"
      ],
      "metadata": {
        "colab": {
          "base_uri": "https://localhost:8080/"
        },
        "id": "4yqVAYNuEaGg",
        "outputId": "76111c6e-e2c3-4d6e-c9a4-2a24921c1cd2"
      },
      "execution_count": null,
      "outputs": [
        {
          "output_type": "stream",
          "name": "stdout",
          "text": [
            "+----+------+--------------------+---------------+--------------------+------------------+--------------------+----------+------+-------------------+\n",
            "|Year|Length|               Title|          Genre|               Actor|           Actress|            Director|Popularity|Awards|        *Image,,,,,|\n",
            "+----+------+--------------------+---------------+--------------------+------------------+--------------------+----------+------+-------------------+\n",
            "|1968|   139|2001: A Space Ody...|Science Fiction|        Dullea, Keir|  Tyzack, Margaret|    Kubrick, Stanley|        83|    No| NicholasCage.png,,|\n",
            "|1982|    92|             48 Hrs.|         Action|         Nolte, Nick|  O'Toole, Annette|        Hill, Walter|        67|    No| NicholasCage.png,,|\n",
            "|1963|   138|               8 1/2|          Drama|Mastroianni, Marc...|Cardinale, Claudia|   Fellini, Federico|        80|   Yes| NicholasCage.png,,|\n",
            "|1966|    95|A Big Hand for th...|         Comedy|        Fonda, Henry|  Woodward, Joanne|       Cook, Fielder|        12|    No| NicholasCage.png,,|\n",
            "|1962|   105|  A Child Is Waiting|          Drama|     Lancaster, Burt|     Garland, Judy|    Cassavetes, John|        60|    No|burtLancaster.png,,|\n",
            "|1985|   118|A Chorus Line, Th...|          Music|    Douglas, Michael|   Landers, Audrey|Attenborough, Ric...|        71|    No|  NicholasCage.png,|\n",
            "|1971|   138|  A Clockwork Orange|Science Fiction|   McDowell, Malcolm|              null|    Kubrick, Stanley|        83|   Yes|NicholasCage.png,,,|\n",
            "|1967|   100|A Coeur Joie, (He...|         Action|   Terzieff, Laurent|  Bardot, Brigitte|  Bourguignon, Serge|        54|    No|brigitteBardot.png,|\n",
            "|1988|   122|   A Cry in the Dark|          Drama|          Neill, Sam|     Streep, Meryl|      Schepisi, Fred|        67|    No|  merylStreep.png,,|\n",
            "|1989|    97|  A Dry White Season|          Drama|  Sutherland, Donald|   Sarandon, Susan|       Palcy, Euzhan|        71|    No| NicholasCage.png,,|\n",
            "+----+------+--------------------+---------------+--------------------+------------------+--------------------+----------+------+-------------------+\n",
            "only showing top 10 rows\n",
            "\n"
          ]
        }
      ]
    },
    {
      "cell_type": "code",
      "source": [
        "#Q6\n",
        "from pyspark.sql import SparkSession\n",
        "\n",
        "spark = SparkSession.builder.appName(\"WineDataset\").getOrCreate()\n",
        "wine_df = spark.read.csv(\"wine_dataset.csv\", header=True, inferSchema=True)"
      ],
      "metadata": {
        "id": "z9fMmukvGCuo"
      },
      "execution_count": null,
      "outputs": []
    },
    {
      "cell_type": "code",
      "source": [
        "wine_df.describe().show()"
      ],
      "metadata": {
        "colab": {
          "base_uri": "https://localhost:8080/"
        },
        "id": "AHVZqJw3GUfZ",
        "outputId": "e134ca25-fbc8-4b18-9f7c-7b671cdc7ee3"
      },
      "execution_count": null,
      "outputs": [
        {
          "output_type": "stream",
          "name": "stdout",
          "text": [
            "+-------+------------------+------------------+------------------+-----------------+------------------+------------------+------------------+--------------------+------------------+-----------------+-------------------+------------------+-----------------+\n",
            "|summary|           Alcohol|        Malic_Acid|               Ash|     Ash_Alcanity|         Magnesium|     Total_Phenols|        Flavanoids|Nonflavanoid_Phenols|   Proanthocyanins|  Color_Intensity|                Hue|             OD280|          Proline|\n",
            "+-------+------------------+------------------+------------------+-----------------+------------------+------------------+------------------+--------------------+------------------+-----------------+-------------------+------------------+-----------------+\n",
            "|  count|               178|               178|               178|              178|               178|               178|               178|                 178|               178|              178|                178|               178|              178|\n",
            "|   mean|13.000617977528083| 2.336348314606741|2.3665168539325854|19.49494382022472| 99.74157303370787| 2.295112359550562|2.0292696629213474| 0.36185393258426973|1.5908988764044953|5.058089882022473| 0.9574494382022468|2.6116853932584254|746.8932584269663|\n",
            "| stddev| 0.811826538005858|1.1171460976144625|0.2743440090608148|3.339563767173504|14.282483515295652|0.6258510488339892|0.9988586850169471| 0.12445334029667941|0.5723588626747612|2.318285871822413|0.22857156582982324|0.7099904287650503|314.9074742768492|\n",
            "|    min|             11.03|              0.74|              1.36|             10.6|                70|              0.98|              0.34|                0.13|              0.41|             1.28|               0.48|              1.27|              278|\n",
            "|    max|             14.83|               5.8|              3.23|             30.0|               162|              3.88|              5.08|                0.66|              3.58|             13.0|               1.71|               4.0|             1680|\n",
            "+-------+------------------+------------------+------------------+-----------------+------------------+------------------+------------------+--------------------+------------------+-----------------+-------------------+------------------+-----------------+\n",
            "\n"
          ]
        }
      ]
    },
    {
      "cell_type": "code",
      "source": [
        "import pyspark.sql.functions as F #visualize\n",
        "import matplotlib.pyplot as plt\n",
        "plt.scatter(\n",
        "    wine_df.select(\"Alcohol\").rdd.map(lambda x: x[0]).collect(),\n",
        "    wine_df.select(\"OD280\").rdd.map(lambda x: x[0]).collect()\n",
        ")\n",
        "plt.xlabel(\"Alcohol\")\n",
        "plt.ylabel(\"OD280\")\n",
        "plt.show()"
      ],
      "metadata": {
        "colab": {
          "base_uri": "https://localhost:8080/",
          "height": 449
        },
        "id": "cYVrl5kGGXTu",
        "outputId": "72fb5555-094a-4ec3-b11e-22ded182d017"
      },
      "execution_count": null,
      "outputs": [
        {
          "output_type": "display_data",
          "data": {
            "text/plain": [
              "<Figure size 640x480 with 1 Axes>"
            ],
            "image/png": "[encoded data removed]"
          },
          "metadata": {}
        }
      ]
    },
    {
      "cell_type": "code",
      "source": [
        "# remove outliers\n",
        "wine_df = wine_df.filter((wine_df[\"Alcohol\"] >= 9) & (wine_df[\"OD280\"] <= 15))"
      ],
      "metadata": {
        "id": "8gnZyDB5GXQW"
      },
      "execution_count": null,
      "outputs": []
    },
    {
      "cell_type": "code",
      "source": [
        "#correlation\n",
        "wine_df.corr(\"Alcohol\", \"OD280\")"
      ],
      "metadata": {
        "colab": {
          "base_uri": "https://localhost:8080/"
        },
        "id": "bhn4OSR2G7Qg",
        "outputId": "e04cb920-8e64-4dde-c4b4-2816d41bd7ec"
      },
      "execution_count": null,
      "outputs": [
        {
          "output_type": "execute_result",
          "data": {
            "text/plain": [
              "0.07234318740052098"
            ]
          },
          "metadata": {},
          "execution_count": 76
        }
      ]
    },
    {
      "cell_type": "code",
      "source": [
        "#Q7\n",
        "from pyspark.ml.clustering import KMeans, BisectingKMeans\n",
        "from pyspark.ml.feature import VectorAssembler, StandardScaler\n",
        "from pyspark.sql.functions import col\n",
        "\n",
        "wine_df = spark.read.csv('wine_dataset.csv', header=True, inferSchema=True)\n",
        "# Create a feature vector\n",
        "assembler = VectorAssembler(inputCols=wine_df.columns, outputCol='features')\n",
        "wine_df = assembler.transform(wine_df)\n",
        "\n",
        "# Scale the features\n",
        "scaler = StandardScaler(inputCol='features', outputCol='scaled_features', withStd=True, withMean=True)\n",
        "scaler_model = scaler.fit(wine_df)\n",
        "wine_df = scaler_model.transform(wine_df).select('scaled_features')\n",
        "wine_df.cache()"
      ],
      "metadata": {
        "colab": {
          "base_uri": "https://localhost:8080/"
        },
        "id": "75bvi4k8HP1k",
        "outputId": "63ff1a81-71ec-4a12-b6f7-927ca636acea"
      },
      "execution_count": null,
      "outputs": [
        {
          "output_type": "execute_result",
          "data": {
            "text/plain": [
              "DataFrame[scaled_features: vector]"
            ]
          },
          "metadata": {},
          "execution_count": 83
        }
      ]
    }
  ]
}